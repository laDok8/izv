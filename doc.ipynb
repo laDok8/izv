{
 "cells": [
  {
   "cell_type": "code",
   "execution_count": 1,
   "metadata": {
    "collapsed": true
   },
   "outputs": [],
   "source": [
    "import pandas as pd\n",
    "import geopandas\n",
    "import matplotlib.pyplot as plt\n",
    "import contextily as ctx\n",
    "import sklearn.cluster\n",
    "import numpy as np\n",
    "from mpl_toolkits.axes_grid1 import make_axes_locatable"
   ]
  },
  {
   "cell_type": "code",
   "execution_count": null,
   "outputs": [],
   "source": [
    "def make_geo(df: pd.DataFrame) -> geopandas.GeoDataFrame:\n",
    "    \"\"\" Konvertovani dataframe do geopandas.GeoDataFrame se spravnym kodovani\"\"\"\n",
    "    df = df[(df['d'] != -1) & (df['e'] != -1)]\n",
    "    df['p2a'] = df['p2a'].astype('datetime64')\n",
    "    df.rename(columns={'p2a': 'date'}, inplace=True)\n",
    "    df = df.dropna(subset=['d','e'])\n",
    "    return geopandas.GeoDataFrame(df, geometry=geopandas.points_from_xy(df['d'], df['e']), crs=\"epsg:5514\")\n",
    "\n",
    "gdf = make_geo(pd.read_pickle(\"accidents.pkl.gz\"))"
   ],
   "metadata": {
    "collapsed": false,
    "pycharm": {
     "name": "#%%\n"
    }
   }
  }
 ],
 "metadata": {
  "kernelspec": {
   "display_name": "Python 3",
   "language": "python",
   "name": "python3"
  },
  "language_info": {
   "codemirror_mode": {
    "name": "ipython",
    "version": 2
   },
   "file_extension": ".py",
   "mimetype": "text/x-python",
   "name": "python",
   "nbconvert_exporter": "python",
   "pygments_lexer": "ipython2",
   "version": "2.7.6"
  }
 },
 "nbformat": 4,
 "nbformat_minor": 0
}