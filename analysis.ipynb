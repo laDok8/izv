{
 "cells": [
  {
   "cell_type": "code",
   "execution_count": 1,
   "id": "9002a5a0",
   "metadata": {},
   "outputs": [
    {
     "data": {
      "text/plain": [
       "' Ukol 1:\\nnačíst soubor nehod, který byl vytvořen z vašich dat. Neznámé integerové hodnoty byly mapovány na -1.\\n\\nÚkoly:\\n- vytvořte sloupec date, který bude ve formátu data (berte v potaz pouze datum, tj sloupec p2a)\\n- vhodné sloupce zmenšete pomocí kategorických datových typů. Měli byste se dostat po 0.5 GB. Neměňte však na kategorický typ region (špatně by se vám pracovalo s figure-level funkcemi)\\n- implementujte funkci, která vypíše kompletní (hlubkou) velikost všech sloupců v DataFrame v paměti:\\norig_size=X MB\\nnew_size=X MB\\n\\nPoznámka: zobrazujte na 1 desetinné místo (.1f) a počítejte, že 1 MB = 1e6 B. \\n'"
      ]
     },
     "execution_count": 1,
     "metadata": {},
     "output_type": "execute_result"
    }
   ],
   "source": [
    "#!/usr/bin/env python3.9\n",
    "# coding=utf-8\n",
    "from matplotlib import pyplot as plt\n",
    "import pandas as pd\n",
    "import seaborn as sns\n",
    "import numpy as np\n",
    "import os\n",
    "import requests as r\n",
    "\n",
    "# muzete pridat libovolnou zakladni knihovnu ci knihovnu predstavenou na prednaskach\n",
    "# dalsi knihovny pak na dotaz\n",
    "\n",
    "\"\"\" Ukol 1:\n",
    "načíst soubor nehod, který byl vytvořen z vašich dat. Neznámé integerové hodnoty byly mapovány na -1.\n",
    "\n",
    "Úkoly:\n",
    "- vytvořte sloupec date, který bude ve formátu data (berte v potaz pouze datum, tj sloupec p2a)\n",
    "- vhodné sloupce zmenšete pomocí kategorických datových typů. Měli byste se dostat po 0.5 GB. Neměňte však na kategorický typ region (špatně by se vám pracovalo s figure-level funkcemi)\n",
    "- implementujte funkci, která vypíše kompletní (hlubkou) velikost všech sloupců v DataFrame v paměti:\n",
    "orig_size=X MB\n",
    "new_size=X MB\n",
    "\n",
    "Poznámka: zobrazujte na 1 desetinné místo (.1f) a počítejte, že 1 MB = 1e6 B. \n",
    "\"\"\""
   ]
  },
  {
   "cell_type": "code",
   "execution_count": 2,
   "id": "77e1caca",
   "metadata": {},
   "outputs": [],
   "source": [
    "def _download_accidents(url: str = \"http://ehw.fit.vutbr.cz/izv/accidents.pkl.gz\", fname: str = \"accidents.pkl.gz\"):\n",
    "    if not os.path.isfile(fname):\n",
    "                    with r.get(url) as zips, open(fname, 'wb') as fp:\n",
    "                        fp.write(zips.content)\n"
   ]
  },
  {
   "cell_type": "code",
   "execution_count": 3,
   "id": "39aea008",
   "metadata": {},
   "outputs": [],
   "source": [
    "def get_dataframe(filename: str, verbose: bool = False) -> pd.DataFrame:\n",
    "    df = pd.read_pickle(filename)\n",
    "    if verbose:\n",
    "        mem = df.memory_usage(deep=True).sum()/ (1024^2)\n",
    "        print(f\"orig_size: {mem:.1f} MB\",)\n",
    "        \n",
    "    convertable = [\"p36\", \"p37\", \"weekday(p2a)\", \"p6\", \"p7\", \"p8\", \"p9\", \"p10\", \"p11\", \"p12\", \"p13a\",\n",
    "               \"p13b\", \"p13c\", \"p14\", \"p15\", \"p16\", \"p17\", \"p18\", \"p19\", \"p20\", \"p21\", \"p22\", \"p23\", \"p24\", \"p27\",\n",
    "               \"p28\",\n",
    "               \"p34\", \"p35\", \"p39\", \"p44\", \"p45a\", \"p47\", \"p48a\", \"p49\", \"p50a\", \"p50b\", \"p51\", \"p52\", \"p53\", \"p55a\",\n",
    "               \"p57\", \"p58\", \"p5a\"]\n",
    "    df['p2a'] = df['p2a'].astype('datetime64')\n",
    "    df['date'] = df['p2a']\n",
    "        #df = df.drop(columns=['p2a'])\n",
    "    df[convertable] = df[convertable].astype('category')\n",
    "    \n",
    "    if verbose:\n",
    "        mem = df.memory_usage(deep=True).sum()/ (1024^2)\n",
    "        print(f\"new_size:  {mem:.1f} MB\",)\n",
    "    return df"
   ]
  },
  {
   "cell_type": "code",
   "execution_count": 4,
   "id": "3d77e257",
   "metadata": {},
   "outputs": [],
   "source": [
    "# Ukol 2: počty nehod v jednotlivých regionech podle druhu silnic\n",
    "\n",
    "def plot_roadtype(df: pd.DataFrame, fig_location: str = None,\n",
    "                  show_figure: bool = False):\n",
    "    pass\n"
   ]
  },
  {
   "cell_type": "code",
   "execution_count": 5,
   "id": "3271c254",
   "metadata": {},
   "outputs": [],
   "source": [
    "# Ukol3: zavinění zvěří\n",
    "def plot_animals(df: pd.DataFrame, fig_location: str = None,\n",
    "                 show_figure: bool = False):\n",
    "    pass\n"
   ]
  },
  {
   "cell_type": "code",
   "execution_count": 6,
   "id": "24c82b64",
   "metadata": {},
   "outputs": [],
   "source": [
    "# Ukol 4: Povětrnostní podmínky\n",
    "def plot_conditions(df: pd.DataFrame, fig_location: str = None,\n",
    "                    show_figure: bool = False):\n",
    "    pass"
   ]
  },
  {
   "cell_type": "code",
   "execution_count": 7,
   "id": "c32448fa",
   "metadata": {},
   "outputs": [
    {
     "name": "stdout",
     "output_type": "stream",
     "text": [
      "orig_size: 733436.4 MB\n",
      "new_size:  704957.2 MB\n",
      "new_size:  700489.9 MB\n",
      "new_size:  534509.0 MB\n"
     ]
    }
   ],
   "source": [
    "if __name__ == \"__main__\":\n",
    "    _download_accidents()\n",
    "    df = get_dataframe(\"accidents.pkl.gz\", verbose=True)\n",
    "    plot_roadtype(df, fig_location=\"01_roadtype.png\", show_figure=True)\n",
    "    plot_animals(df, \"02_animals.png\", True)\n",
    "    plot_conditions(df, \"03_conditions.png\", True)\n"
   ]
  },
  {
   "cell_type": "code",
   "execution_count": 8,
   "id": "2ec39385",
   "metadata": {},
   "outputs": [
    {
     "name": "stdout",
     "output_type": "stream",
     "text": [
      "<class 'pandas.core.frame.DataFrame'>\n",
      "RangeIndex: 572934 entries, 0 to 572933\n",
      "Data columns (total 65 columns):\n",
      " #   Column        Non-Null Count   Dtype         \n",
      "---  ------        --------------   -----         \n",
      " 0   p1            572934 non-null  object        \n",
      " 1   p36           572934 non-null  category      \n",
      " 2   p37           572934 non-null  category      \n",
      " 3   weekday(p2a)  572934 non-null  category      \n",
      " 4   p2b           572934 non-null  int64         \n",
      " 5   p6            572934 non-null  category      \n",
      " 6   p7            572934 non-null  category      \n",
      " 7   p8            572934 non-null  category      \n",
      " 8   p9            572934 non-null  category      \n",
      " 9   p10           572934 non-null  category      \n",
      " 10  p11           572934 non-null  category      \n",
      " 11  p12           572934 non-null  category      \n",
      " 12  p13a          572934 non-null  category      \n",
      " 13  p13b          572934 non-null  category      \n",
      " 14  p13c          572934 non-null  category      \n",
      " 15  p14           572934 non-null  category      \n",
      " 16  p15           572934 non-null  category      \n",
      " 17  p16           572934 non-null  category      \n",
      " 18  p17           572934 non-null  category      \n",
      " 19  p18           572934 non-null  category      \n",
      " 20  p19           572934 non-null  category      \n",
      " 21  p20           572934 non-null  category      \n",
      " 22  p21           572934 non-null  category      \n",
      " 23  p22           572934 non-null  category      \n",
      " 24  p23           572934 non-null  category      \n",
      " 25  p24           572934 non-null  category      \n",
      " 26  p27           572934 non-null  category      \n",
      " 27  p28           572934 non-null  category      \n",
      " 28  p34           572934 non-null  category      \n",
      " 29  p35           572934 non-null  category      \n",
      " 30  p39           572934 non-null  category      \n",
      " 31  p44           572934 non-null  category      \n",
      " 32  p45a          572934 non-null  category      \n",
      " 33  p47           572934 non-null  category      \n",
      " 34  p48a          572934 non-null  category      \n",
      " 35  p49           572934 non-null  category      \n",
      " 36  p50a          572934 non-null  category      \n",
      " 37  p50b          572934 non-null  category      \n",
      " 38  p51           572934 non-null  category      \n",
      " 39  p52           572934 non-null  category      \n",
      " 40  p53           572934 non-null  category      \n",
      " 41  p55a          572934 non-null  category      \n",
      " 42  p57           572934 non-null  category      \n",
      " 43  p58           572934 non-null  category      \n",
      " 44  a             384082 non-null  float64       \n",
      " 45  b             384082 non-null  float64       \n",
      " 46  d             571225 non-null  float64       \n",
      " 47  e             571225 non-null  float64       \n",
      " 48  f             567050 non-null  float64       \n",
      " 49  g             567050 non-null  float64       \n",
      " 50  h             572934 non-null  object        \n",
      " 51  i             572934 non-null  object        \n",
      " 52  j             572934 non-null  int64         \n",
      " 53  k             572934 non-null  object        \n",
      " 54  l             572934 non-null  object        \n",
      " 55  n             572934 non-null  object        \n",
      " 56  o             572934 non-null  object        \n",
      " 57  p             572934 non-null  object        \n",
      " 58  q             572934 non-null  object        \n",
      " 59  r             572934 non-null  int64         \n",
      " 60  s             572934 non-null  int64         \n",
      " 61  t             572934 non-null  object        \n",
      " 62  p5a           572934 non-null  category      \n",
      " 63  region        572934 non-null  object        \n",
      " 64  date          572934 non-null  datetime64[ns]\n",
      "dtypes: category(43), datetime64[ns](1), float64(6), int64(4), object(11)\n",
      "memory usage: 121.7+ MB\n"
     ]
    }
   ],
   "source": [
    "df.info()"
   ]
  },
  {
   "cell_type": "code",
   "execution_count": null,
   "id": "49ae072f",
   "metadata": {},
   "outputs": [],
   "source": []
  }
 ],
 "metadata": {
  "kernelspec": {
   "display_name": "Python 3 (ipykernel)",
   "language": "python",
   "name": "python3"
  },
  "language_info": {
   "codemirror_mode": {
    "name": "ipython",
    "version": 3
   },
   "file_extension": ".py",
   "mimetype": "text/x-python",
   "name": "python",
   "nbconvert_exporter": "python",
   "pygments_lexer": "ipython3",
   "version": "3.10.0"
  }
 },
 "nbformat": 4,
 "nbformat_minor": 5
}
