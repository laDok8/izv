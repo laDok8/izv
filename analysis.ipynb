{
 "cells": [
  {
   "cell_type": "code",
   "execution_count": 1,
   "id": "9002a5a0",
   "metadata": {},
   "outputs": [],
   "source": [
    "#!/usr/bin/env python3.9\n",
    "# coding=utf-8\n",
    "from matplotlib import pyplot as plt\n",
    "import pandas as pd\n",
    "import seaborn as sns\n",
    "import numpy as np\n",
    "import os\n",
    "import requests as r\n",
    "\n",
    "def _download_accidents(url: str = \"http://ehw.fit.vutbr.cz/izv/accidents.pkl.gz\", fname: str = \"accidents.pkl.gz\"):\n",
    "    if not os.path.isfile(fname):\n",
    "                    with r.get(url) as zips, open(fname, 'wb') as fp:\n",
    "                        fp.write(zips.content)\n",
    "\n",
    "                    \n",
    "                    \n",
    "_download_accidents()"
   ]
  },
  {
   "cell_type": "code",
   "execution_count": 2,
   "id": "39aea008",
   "metadata": {},
   "outputs": [
    {
     "name": "stdout",
     "output_type": "stream",
     "text": [
      "orig_size: 717.6 MB\n",
      "new_size:  266.5 MB\n"
     ]
    }
   ],
   "source": [
    "def get_dataframe(filename: str, verbose: bool = False) -> pd.DataFrame:\n",
    "    df = pd.read_pickle(filename)\n",
    "    if verbose:\n",
    "        mem = df.memory_usage(deep=True).sum() / (1024**2)\n",
    "        print(f\"orig_size: {mem:.1f} MB\")\n",
    "\n",
    "    convertable = [\"p36\", \"p37\", \"weekday(p2a)\", \"p2b\", \"p6\", \"p7\", \"p8\", \"p9\", \"p10\", \"p11\", \"p12\", \"p13a\",\n",
    "                   \"p13b\", \"p13c\", \"p14\", \"p15\", \"p16\", \"p17\", \"p18\", \"p19\", \"p20\", \"p21\", \"p22\", \"p23\", \"p24\", \"p27\",\n",
    "                   \"p28\",\n",
    "                   \"p34\", \"p35\", \"p39\", \"p44\", \"p45a\", \"p47\", \"p48a\", \"p49\", \"p50a\", \"p50b\", \"p51\", \"p52\", \"p53\", \"p55a\",\n",
    "                   \"p57\", \"p58\", \"a\", \"b\", \"d\", \"e\", \"f\", \"g\", \"h\", \"i\", \"j\", \"k\", \"l\", \"n\", \"o\", \"p\", \"q\", \"r\", \"s\", \"t\",\n",
    "                   \"p5a\"]\n",
    "    df['p2a'] = df['p2a'].astype('datetime64')\n",
    "    df.rename({'p2a': 'date'}, inplace=True)\n",
    "    df[convertable] = df[convertable].astype('category')\n",
    "\n",
    "    if verbose:\n",
    "        mem = df.memory_usage(deep=True).sum() / (1024**2)\n",
    "        print(f\"new_size:  {mem:.1f} MB\")\n",
    "    return df\n",
    "df = get_dataframe(\"accidents.pkl.gz\", verbose=True)"
   ]
  },
  {
   "cell_type": "code",
   "execution_count": 3,
   "id": "3271c254",
   "metadata": {},
   "outputs": [
    {
     "data": {
      "image/png": "[encoded data removed]",
      "text/plain": [
       "<Figure size 648x432 with 6 Axes>"
      ]
     },
     "metadata": {},
     "output_type": "display_data"
    }
   ],
   "source": [
    "# Ukol 2: počty nehod v jednotlivých regionech podle druhu silnic\n",
    "def plot_roadtype(df: pd.DataFrame, fig_location: str = None,\n",
    "                  show_figure: bool = False):\n",
    "    _rename = {\n",
    "        0: 'Ostatní komunikace',\n",
    "        1: 'Dvoupruhová',\n",
    "        2: 'Třípruhová',\n",
    "        3: 'Čtyřpruhová',\n",
    "        4: 'Čtyřpruhová',\n",
    "        5: 'Vícepruhová',\n",
    "        6: 'Rychlostní komunikace',\n",
    "    }\n",
    "    df['hodnota'] = 1\n",
    "    # make hard copy because of changing labels\n",
    "    road_df = df.loc[:,['region', 'p21', 'hodnota']]\n",
    "    road_df['p21'] = road_df['p21'].replace(_rename)\n",
    "    road_df = pd.pivot_table(road_df, columns=\"region\", index='p21', values='hodnota', aggfunc='sum')\n",
    "    road_df = road_df[['HKK', 'JHC', 'JHM', 'KVK']]\n",
    "    road_df = road_df.stack().reset_index(name='počet nehod')\n",
    "\n",
    "    # graphing\n",
    "    sns.set_theme()\n",
    "    sns.set_context(\"paper\")\n",
    "    fig = sns.FacetGrid(road_df, col='p21',sharex=False, sharey=True, col_wrap=3)\n",
    "    fig.map(sns.barplot, 'region', 'počet nehod', palette=\"deep\", order=None).set(yscale='log', ylim=(10, None))\n",
    "    fig.set_titles('{col_name}')\n",
    "    fig.tight_layout()\n",
    "\n",
    "    if fig_location:\n",
    "        plt.savefig(fig_location)\n",
    "\n",
    "    if show_figure:\n",
    "        plt.show()\n",
    "        plt.close()\n",
    "\n",
    "\n",
    "plot_roadtype(df, fig_location=\"01_roadtype.png\", show_figure=True)"
   ]
  },
  {
   "cell_type": "code",
   "execution_count": 4,
   "id": "3d77e257",
   "metadata": {},
   "outputs": [],
   "source": [
    "# Ukol3: zavinění zvěří\n",
    "def plot_animals(df: pd.DataFrame, fig_location: str = None,\n",
    "                 show_figure: bool = False):\n",
    "    pass\n",
    "plot_animals(df, \"02_animals.png\", True)"
   ]
  },
  {
   "cell_type": "code",
   "execution_count": 5,
   "id": "24c82b64",
   "metadata": {},
   "outputs": [],
   "source": [
    "# Ukol 4: Povětrnostní podmínky\n",
    "def plot_conditions(df: pd.DataFrame, fig_location: str = None,\n",
    "                    show_figure: bool = False):\n",
    "    pass\n",
    "plot_conditions(df, \"03_conditions.png\", True)"
   ]
  }
 ],
 "metadata": {
  "kernelspec": {
   "display_name": "Python 3 (ipykernel)",
   "language": "python",
   "name": "python3"
  },
  "language_info": {
   "codemirror_mode": {
    "name": "ipython",
    "version": 3
   },
   "file_extension": ".py",
   "mimetype": "text/x-python",
   "name": "python",
   "nbconvert_exporter": "python",
   "pygments_lexer": "ipython3",
   "version": "3.10.0"
  }
 },
 "nbformat": 4,
 "nbformat_minor": 5
}
