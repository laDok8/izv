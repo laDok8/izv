{
 "cells": [
  {
   "cell_type": "code",
   "execution_count": 43,
   "metadata": {
    "collapsed": true
   },
   "outputs": [],
   "source": [
    "import pandas as pd\n",
    "from scipy import stats"
   ]
  },
  {
   "cell_type": "markdown",
   "source": [
    "### Hypotéza 1:\n",
    "Na silnicích první třídy se při nehodách umíralo se stejnou pravděpodobností jako dálnicích.\n",
    "K ověření hypotézy využijte $\\chi^2$ test s tím, že také určíte, jestli nehody na silnicích 1. třídy\n",
    "vedly častěji či méně často k fatální nehodě. V tom vám může pomoct “expected” výstup $\\chi^2$\n",
    "testu. Nerozlišujte počet následků, ale pouze nehody, kde došlo k jednomu a více úmrtí\n",
    "(p13a  > 0)."
   ],
   "metadata": {
    "collapsed": false,
    "pycharm": {
     "name": "#%% md\n"
    }
   }
  },
  {
   "cell_type": "markdown",
   "source": [
    "V načteném dataframu zachováme pouze nehody na dalnicích (0) a silnicích první třídy (1) a fatalitu nehod"
   ],
   "metadata": {
    "collapsed": false
   }
  },
  {
   "cell_type": "code",
   "execution_count": 44,
   "outputs": [],
   "source": [
    "df = pd.read_pickle(\"accidents.pkl.gz\")[['p36', 'p13a']]\n",
    "df = df[df['p36'].isin([0,1])]"
   ],
   "metadata": {
    "collapsed": false,
    "pycharm": {
     "name": "#%%\n"
    }
   }
  },
  {
   "cell_type": "markdown",
   "source": [
    "Vytvoříme nový sloupec určující zda došlo k umrtí či nikoliv"
   ],
   "metadata": {
    "collapsed": false
   }
  },
  {
   "cell_type": "code",
   "execution_count": 45,
   "outputs": [],
   "source": [
    "df['death'] = False\n",
    "df.loc[df['p13a'] >= 1,'death'] = True"
   ],
   "metadata": {
    "collapsed": false,
    "pycharm": {
     "name": "#%%\n"
    }
   }
  },
  {
   "cell_type": "markdown",
   "source": [
    "Vytvoříme kontingenční tabulku pro zavíslost mezi umrtím a typem silnice"
   ],
   "metadata": {
    "collapsed": false
   }
  },
  {
   "cell_type": "code",
   "execution_count": 46,
   "outputs": [
    {
     "data": {
      "text/plain": "death  False  True\np36               \n0      24293   166\n1      78618   911",
      "text/html": "<div>\n<style scoped>\n    .dataframe tbody tr th:only-of-type {\n        vertical-align: middle;\n    }\n\n    .dataframe tbody tr th {\n        vertical-align: top;\n    }\n\n    .dataframe thead th {\n        text-align: right;\n    }\n</style>\n<table border=\"1\" class=\"dataframe\">\n  <thead>\n    <tr style=\"text-align: right;\">\n      <th>death</th>\n      <th>False</th>\n      <th>True</th>\n    </tr>\n    <tr>\n      <th>p36</th>\n      <th></th>\n      <th></th>\n    </tr>\n  </thead>\n  <tbody>\n    <tr>\n      <th>0</th>\n      <td>24293</td>\n      <td>166</td>\n    </tr>\n    <tr>\n      <th>1</th>\n      <td>78618</td>\n      <td>911</td>\n    </tr>\n  </tbody>\n</table>\n</div>"
     },
     "execution_count": 46,
     "metadata": {},
     "output_type": "execute_result"
    }
   ],
   "source": [
    "ct = pd.crosstab(df['p36'], df['death'])\n",
    "ct"
   ],
   "metadata": {
    "collapsed": false,
    "pycharm": {
     "name": "#%%\n"
    }
   }
  },
  {
   "cell_type": "markdown",
   "source": [
    "provedeme $\\chi^2$ test zavislosti"
   ],
   "metadata": {
    "collapsed": false
   }
  },
  {
   "cell_type": "code",
   "execution_count": 47,
   "outputs": [
    {
     "data": {
      "text/plain": "3.6067450279444316e-10"
     },
     "execution_count": 47,
     "metadata": {},
     "output_type": "execute_result"
    }
   ],
   "source": [
    "stats.chi2_contingency(ct)[1]"
   ],
   "metadata": {
    "collapsed": false,
    "pycharm": {
     "name": "#%%\n"
    }
   }
  },
  {
   "cell_type": "markdown",
   "source": [
    "p-value < 0.05 -> zamítame nulovou hypotézu. Na dálnicích se umíralo s jinou pravděpodobností jako na silnici 1. třídy\"\n",
    "\n",
    "provedeme porovnáni očekávaných $\\chi^2$ a skutečných hodnot"
   ],
   "metadata": {
    "collapsed": false
   }
  },
  {
   "cell_type": "code",
   "execution_count": 48,
   "outputs": [
    {
     "name": "stdout",
     "output_type": "stream",
     "text": [
      "95.55338904363974 >? 86.29857299670691\n"
     ]
    }
   ],
   "source": [
    "exp = stats.chi2_contingency(ct)[3]\n",
    "print(str(exp[1,0]/exp[1,1]) + ' >? ' + str(ct.iloc[1,0]/ct.iloc[1,1]))"
   ],
   "metadata": {
    "collapsed": false,
    "pycharm": {
     "name": "#%%\n"
    }
   }
  },
  {
   "cell_type": "markdown",
   "source": [
    "bylo očekávano více nehod na silnici 1. tridy, tudíž vedly méně často k smrtelným nehodám"
   ],
   "metadata": {
    "collapsed": false
   }
  },
  {
   "cell_type": "markdown",
   "source": [
    "### Hypotéza 2:\n",
    "Při nehodách vozidel značky Škoda je škoda na vozidle nižší než při nehodách vozidel Audi.\n",
    "Využijte vhodný test a určete, zda je škoda na vozidlech vyšší či nižší a zda je tato vlastnost\n",
    "na požadované hladině významnosti."
   ],
   "metadata": {
    "collapsed": false
   }
  },
  {
   "cell_type": "markdown",
   "source": [
    "V načteném dataframu zachováme pouze nehody požadovaných značek a jejich škody"
   ],
   "metadata": {
    "collapsed": false
   }
  },
  {
   "cell_type": "code",
   "execution_count": 49,
   "outputs": [],
   "source": [
    "df = pd.read_pickle(\"accidents.pkl.gz\")[['p45a', 'p53']]\n",
    "# 2=audi 39=skoda 47=vw\n",
    "brand1, brand2 = 2, 39\n",
    "df = df[(df['p45a'].isin([brand1,brand2]))] #  & (df['p53'] > 0) ]"
   ],
   "metadata": {
    "collapsed": false,
    "pycharm": {
     "name": "#%%\n"
    }
   }
  },
  {
   "cell_type": "markdown",
   "source": [
    "`The Mann-Whitney U test is used to compare whether there is a difference in the dependent variable for two independent groups`\n",
    "použijeme tedy mannwhitneyu neparovy test."
   ],
   "metadata": {
    "collapsed": false
   }
  },
  {
   "cell_type": "code",
   "execution_count": 50,
   "outputs": [
    {
     "data": {
      "text/plain": "MannwhitneyuResult(statistic=789001736.0, pvalue=4.921643600739696e-188)"
     },
     "execution_count": 50,
     "metadata": {},
     "output_type": "execute_result"
    }
   ],
   "source": [
    "stats.mannwhitneyu(df[df['p45a'].isin([brand1])]['p53'],df[df['p45a'].isin([brand2])]['p53'])"
   ],
   "metadata": {
    "collapsed": false,
    "pycharm": {
     "name": "#%%\n"
    }
   }
  },
  {
   "cell_type": "markdown",
   "source": [
    "p-value < 0.25 -> zamítame nulovou hypotézu. Pruměrné škody těchto značek se liší"
   ],
   "metadata": {
    "collapsed": false
   }
  },
  {
   "cell_type": "code",
   "execution_count": 51,
   "outputs": [
    {
     "name": "stdout",
     "output_type": "stream",
     "text": [
      "audi\n"
     ]
    },
    {
     "data": {
      "text/plain": "count    11445.000000\nmean       568.358934\nstd        894.719634\nmin          0.000000\n25%        100.000000\n50%        300.000000\n75%        700.000000\nmax      20000.000000\nName: p53, dtype: float64"
     },
     "execution_count": 51,
     "metadata": {},
     "output_type": "execute_result"
    }
   ],
   "source": [
    "print('audi')\n",
    "df[df['p45a'] == brand1]['p53'].describe()"
   ],
   "metadata": {
    "collapsed": false,
    "pycharm": {
     "name": "#%%\n"
    }
   }
  },
  {
   "cell_type": "code",
   "execution_count": 52,
   "outputs": [
    {
     "name": "stdout",
     "output_type": "stream",
     "text": [
      "skoda\n"
     ]
    },
    {
     "data": {
      "text/plain": "count    118379.000000\nmean        368.166026\nstd         471.395447\nmin           0.000000\n25%         100.000000\n50%         200.000000\n75%         500.000000\nmax       15000.000000\nName: p53, dtype: float64"
     },
     "execution_count": 52,
     "metadata": {},
     "output_type": "execute_result"
    }
   ],
   "source": [
    "print('skoda')\n",
    "df[df['p45a'] == brand2]['p53'].describe()"
   ],
   "metadata": {
    "collapsed": false,
    "pycharm": {
     "name": "#%%\n"
    }
   }
  },
  {
   "cell_type": "markdown",
   "source": [
    "audi má vyrazně vyšší průměrnou škodu cca 56800 Kč (vs cca 36800 Kč u značky škoda)"
   ],
   "metadata": {
    "collapsed": false,
    "pycharm": {
     "name": "#%% md\n"
    }
   }
  }
 ],
 "metadata": {
  "kernelspec": {
   "display_name": "Python 3",
   "language": "python",
   "name": "python3"
  },
  "language_info": {
   "codemirror_mode": {
    "name": "ipython",
    "version": 2
   },
   "file_extension": ".py",
   "mimetype": "text/x-python",
   "name": "python",
   "nbconvert_exporter": "python",
   "pygments_lexer": "ipython2",
   "version": "2.7.6"
  }
 },
 "nbformat": 4,
 "nbformat_minor": 0
}