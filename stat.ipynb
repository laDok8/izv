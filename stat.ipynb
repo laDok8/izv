{
 "cells": [
  {
   "cell_type": "code",
   "execution_count": 24,
   "metadata": {
    "collapsed": true
   },
   "outputs": [],
   "source": [
    "import seaborn as sns\n",
    "import pandas as pd\n",
    "import numpy as np\n",
    "import matplotlib.pyplot as plt\n",
    "from IPython.display import display\n",
    "from scipy.stats import chi2_contingency\n",
    "from scipy.stats import pearsonr"
   ]
  },
  {
   "cell_type": "markdown",
   "source": [
    "### Hypotéza 1:\n",
    "Na silnicích první třídy se při nehodách umíralo se stejnou pravděpodobností jako dálnicích.\n",
    "K ověření hypotézy využijte $\\chi^2$ test s tím, že také určíte, jestli nehody na silnicích 1. třídy\n",
    "vedly častěji či méně často k fatální nehodě. V tom vám může pomoct “expected” výstup $\\chi^2$\n",
    "testu. Nerozlišujte počet následků, ale pouze nehody, kde došlo k jednomu a více úmrtí\n",
    "(p13a  > 0)."
   ],
   "metadata": {
    "collapsed": false,
    "pycharm": {
     "name": "#%% md\n"
    }
   }
  },
  {
   "cell_type": "code",
   "execution_count": 9,
   "outputs": [
    {
     "data": {
      "text/plain": "p13a    1   2   3   4\np36                  \n0     155   9   1   1\n1     815  70  16  10",
      "text/html": "<div>\n<style scoped>\n    .dataframe tbody tr th:only-of-type {\n        vertical-align: middle;\n    }\n\n    .dataframe tbody tr th {\n        vertical-align: top;\n    }\n\n    .dataframe thead th {\n        text-align: right;\n    }\n</style>\n<table border=\"1\" class=\"dataframe\">\n  <thead>\n    <tr style=\"text-align: right;\">\n      <th>p13a</th>\n      <th>1</th>\n      <th>2</th>\n      <th>3</th>\n      <th>4</th>\n    </tr>\n    <tr>\n      <th>p36</th>\n      <th></th>\n      <th></th>\n      <th></th>\n      <th></th>\n    </tr>\n  </thead>\n  <tbody>\n    <tr>\n      <th>0</th>\n      <td>155</td>\n      <td>9</td>\n      <td>1</td>\n      <td>1</td>\n    </tr>\n    <tr>\n      <th>1</th>\n      <td>815</td>\n      <td>70</td>\n      <td>16</td>\n      <td>10</td>\n    </tr>\n  </tbody>\n</table>\n</div>"
     },
     "metadata": {},
     "output_type": "display_data"
    },
    {
     "name": "stdout",
     "output_type": "stream",
     "text": [
      "na hranici vyznamnosti: 0.05\n",
      "příjimáme nulovou hypotézu: na dálnicích se umíralo se stejnou pravděpodobností jako na 1. třídě\n"
     ]
    },
    {
     "data": {
      "text/plain": "0.4335040105324415"
     },
     "metadata": {},
     "output_type": "display_data"
    }
   ],
   "source": [
    "df = pd.read_pickle(\"accidents.pkl.gz\")[['p36', 'p13a']]\n",
    "df = df[((df['p36'] == 0) | (df['p36'] == 1)) & (df['p13a'] >= 1)]\n",
    "ct = pd.crosstab(df['p36'], df['p13a'])\n",
    "display(ct)\n",
    "\n",
    "p = chi2_contingency(ct)[1]\n",
    "print('na hranici vyznamnosti: 5%')\n",
    "if p < 0.05:\n",
    "    print(\"zamítame nulovou hypotézu: na dálnicích se umíralo se jinou pravděpodobností jako na 1. třídě\")\n",
    "else:\n",
    "    print(\"příjimáme nulovou hypotézu: na dálnicích se umíralo se stejnou pravděpodobností jako na 1. třídě\")\n",
    "display(p)"
   ],
   "metadata": {
    "collapsed": false,
    "pycharm": {
     "name": "#%%\n"
    }
   }
  },
  {
   "cell_type": "markdown",
   "source": [
    "### Hypotéza 2:\n",
    "Při nehodách vozidel značky Škoda je škoda na vozidle nižší než při nehodách vozidel Audi.\n",
    "Využijte vhodný test a určete, zda je škoda na vozidlech vyšší či nižší a zda je tato vlastnost\n",
    "na požadované hladině významnosti."
   ],
   "metadata": {
    "collapsed": false
   }
  },
  {
   "cell_type": "code",
   "execution_count": 39,
   "outputs": [
    {
     "name": "stdout",
     "output_type": "stream",
     "text": [
      "audi count    10681.000000\n",
      "mean       609.013014\n",
      "std        912.703640\n",
      "min          1.000000\n",
      "25%        200.000000\n",
      "50%        400.000000\n",
      "75%        800.000000\n",
      "max      20000.000000\n",
      "Name: p53, dtype: float64\n",
      "skoda count    110176.000000\n",
      "mean        395.577313\n",
      "std         477.404487\n",
      "min           1.000000\n",
      "25%         100.000000\n",
      "50%         300.000000\n",
      "75%         500.000000\n",
      "max       15000.000000\n",
      "Name: p53, dtype: float64\n"
     ]
    },
    {
     "data": {
      "text/plain": "<Figure size 1296x1080 with 2 Axes>",
      "image/png": "[encoded data removed]"
     },
     "metadata": {
      "needs_background": "light"
     },
     "output_type": "display_data"
    },
    {
     "data": {
      "text/plain": "p53   1      2      3      4      5      6      7      8      9      10     \\\np45a                                                                         \n2        12      1      1      0     31      0      0      0      0    196   \n39      240     74     13      7    641      1      1      5      1   3216   \n\np53   ...  7000   7500   8000   8010   8500   9000   10000  12000  15000  \\\np45a  ...                                                                  \n2     ...      9      1      4      0      0      4     10      2      3   \n39    ...     10      1     14      1      1      2      8      0      1   \n\np53   20000  \np45a         \n2         4  \n39        0  \n\n[2 rows x 173 columns]",
      "text/html": "<div>\n<style scoped>\n    .dataframe tbody tr th:only-of-type {\n        vertical-align: middle;\n    }\n\n    .dataframe tbody tr th {\n        vertical-align: top;\n    }\n\n    .dataframe thead th {\n        text-align: right;\n    }\n</style>\n<table border=\"1\" class=\"dataframe\">\n  <thead>\n    <tr style=\"text-align: right;\">\n      <th>p53</th>\n      <th>1</th>\n      <th>2</th>\n      <th>3</th>\n      <th>4</th>\n      <th>5</th>\n      <th>6</th>\n      <th>7</th>\n      <th>8</th>\n      <th>9</th>\n      <th>10</th>\n      <th>...</th>\n      <th>7000</th>\n      <th>7500</th>\n      <th>8000</th>\n      <th>8010</th>\n      <th>8500</th>\n      <th>9000</th>\n      <th>10000</th>\n      <th>12000</th>\n      <th>15000</th>\n      <th>20000</th>\n    </tr>\n    <tr>\n      <th>p45a</th>\n      <th></th>\n      <th></th>\n      <th></th>\n      <th></th>\n      <th></th>\n      <th></th>\n      <th></th>\n      <th></th>\n      <th></th>\n      <th></th>\n      <th></th>\n      <th></th>\n      <th></th>\n      <th></th>\n      <th></th>\n      <th></th>\n      <th></th>\n      <th></th>\n      <th></th>\n      <th></th>\n      <th></th>\n    </tr>\n  </thead>\n  <tbody>\n    <tr>\n      <th>2</th>\n      <td>12</td>\n      <td>1</td>\n      <td>1</td>\n      <td>0</td>\n      <td>31</td>\n      <td>0</td>\n      <td>0</td>\n      <td>0</td>\n      <td>0</td>\n      <td>196</td>\n      <td>...</td>\n      <td>9</td>\n      <td>1</td>\n      <td>4</td>\n      <td>0</td>\n      <td>0</td>\n      <td>4</td>\n      <td>10</td>\n      <td>2</td>\n      <td>3</td>\n      <td>4</td>\n    </tr>\n    <tr>\n      <th>39</th>\n      <td>240</td>\n      <td>74</td>\n      <td>13</td>\n      <td>7</td>\n      <td>641</td>\n      <td>1</td>\n      <td>1</td>\n      <td>5</td>\n      <td>1</td>\n      <td>3216</td>\n      <td>...</td>\n      <td>10</td>\n      <td>1</td>\n      <td>14</td>\n      <td>1</td>\n      <td>1</td>\n      <td>2</td>\n      <td>8</td>\n      <td>0</td>\n      <td>1</td>\n      <td>0</td>\n    </tr>\n  </tbody>\n</table>\n<p>2 rows × 173 columns</p>\n</div>"
     },
     "metadata": {},
     "output_type": "display_data"
    },
    {
     "name": "stdout",
     "output_type": "stream",
     "text": [
      "4.995134385550724e-292\n",
      "na hranici vyznamnosti: 5% (dosaženo: 4.995134385550724e-290 %)\n",
      "zamítame nulovou hypotézu: Při nehodách vozidel značky Škoda není škoda menší\n"
     ]
    }
   ],
   "source": [
    "df = pd.read_pickle(\"accidents.pkl.gz\")[['p45a', 'p53']]\n",
    "brand1, brand2 = 2, 39\n",
    "df = df[(df['p45a'].isin([brand1,brand2]))& (df['p53'] > 0)] #\n",
    "# p45a - znacka 2=audi 39=skoda\n",
    "# p53 - skoda v stokorunach\n",
    "\n",
    "print('audi',df[df['p45a'] == brand1]['p53'].describe())\n",
    "print('skoda',df[df['p45a'] == brand2]['p53'].describe())\n",
    "fig,(ax1,ax2) = plt.subplots(1,2,figsize=(18,15))\n",
    "ax1.hist(df[df['p45a'] == brand1]['p53'], bins = np.linspace(df[df['p45a'] == brand1]['p53'].min(), df[df['p45a'] == brand1]['p53'].max(), 30))\n",
    "ax2.hist(df[df['p45a'] == brand2]['p53'], bins = np.linspace(df[df['p45a'] == brand2]['p53'].min(), df[df['p45a'] == brand2]['p53'].max(), 30))\n",
    "plt.show()\n",
    "\n",
    "ct = pd.crosstab(df['p45a'], df['p53'])\n",
    "display(ct)\n",
    "\n",
    "p = chi2_contingency(ct)[1]\n",
    "print(p)\n",
    "print(\"na hranici vyznamnosti: 5% (dosaženo: \"+str(p*100)+\" %)\")\n",
    "if p < 0.05:\n",
    "    print(\"zamítame nulovou hypotézu: Při nehodách vozidel značky Škoda není škoda menší\")\n",
    "else:\n",
    "    print(\"příjimáme nulovou hypotézu: Při nehodách vozidel značky Škoda je škoda menší\")"
   ],
   "metadata": {
    "collapsed": false,
    "pycharm": {
     "name": "#%%\n"
    }
   }
  }
 ],
 "metadata": {
  "kernelspec": {
   "display_name": "Python 3",
   "language": "python",
   "name": "python3"
  },
  "language_info": {
   "codemirror_mode": {
    "name": "ipython",
    "version": 2
   },
   "file_extension": ".py",
   "mimetype": "text/x-python",
   "name": "python",
   "nbconvert_exporter": "python",
   "pygments_lexer": "ipython2",
   "version": "2.7.6"
  }
 },
 "nbformat": 4,
 "nbformat_minor": 0
}